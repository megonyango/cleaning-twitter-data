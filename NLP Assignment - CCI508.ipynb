{
 "cells": [
  {
   "cell_type": "markdown",
   "metadata": {},
   "source": [
    "## ADM:  P52/38304/2020   NAME:ONYANGO MARGARET NYAKENO \n"
   ]
  },
 
  {
   "cell_type": "markdown",
   "metadata": {},
   "source": [
    "##                                        POS Tagging\n"
   ]
  },
  {
   "cell_type": "code",
   "execution_count": 20,
   "metadata": {},
   "outputs": [],
   "source": [
    "from nltk import pos_tag"
   ]
  },
  {
   "cell_type": "code",
   "execution_count": 21,
   "metadata": {},
   "outputs": [],
   "source": [
    "tagged_tweets = cleaned_tweets['tweet'].map(pos_tag)\n"
   ]
  },
  {
   "cell_type": "code",
   "execution_count": 22,
   "metadata": {},
   "outputs": [
    {
     "data": {
      "text/plain": [
       "0    [(comedycentralke, NN), (words, NNS), (kill, V...\n",
       "1    [(little, JJ), (luhya, NN), (remains, VBZ), (a...\n",
       "2    [(cheernatwildcat, NN), (kill, VB), (battle, N...\n",
       "3    [(homeboyzradio, NN), (hbr, NN), (luv, NN), (d...\n",
       "4    [(hangoutfriday, NN), (hahaha, VB), (ball, NN)...\n",
       "Name: tweet, dtype: object"
      ]
     },
     "execution_count": 22,
     "metadata": {},
     "output_type": "execute_result"
    }
   ],
   "source": [
    "tagged_tweets.head()\n"
   ]
  },
  {
   "cell_type": "code",
   "execution_count": 23,
   "metadata": {},
   "outputs": [
    {
     "data": {
      "text/plain": [
       "0                {'NN': 3, 'NNS': 1, 'VB': 1, 'JJ': 2}\n",
       "1      {'JJ': 2, 'NN': 1, 'VBZ': 1, 'RB': 1, 'NNS': 1}\n",
       "2                                   {'NN': 5, 'VB': 1}\n",
       "3    {'NN': 5, 'VBD': 1, 'JJ': 1, 'RB': 1, 'VBP': 1...\n",
       "4                          {'NN': 5, 'VB': 1, 'JJ': 2}\n",
       "Name: tweet, dtype: object"
      ]
     },
     "execution_count": 23,
     "metadata": {},
     "output_type": "execute_result"
    }
   ],
   "source": [
    "#function to count tags\n",
    "def count_tags(tweet_with_tags):\n",
    "    tag_count = {}\n",
    "    for word, tag in tweet_with_tags:\n",
    "        if tag in tag_count:\n",
    "            tag_count[tag] += 1\n",
    "        else:\n",
    "            tag_count[tag] = 1\n",
    "    return(tag_count)\n",
    "tagged_tweets.map(count_tags).head()"
   ]
  },
  {
   "cell_type": "code",
   "execution_count": 24,
   "metadata": {},
   "outputs": [
    {
     "data": {
      "text/html": [
       "<div>\n",
       "<style scoped>\n",
       "    .dataframe tbody tr th:only-of-type {\n",
       "        vertical-align: middle;\n",
       "    }\n",
       "\n",
       "    .dataframe tbody tr th {\n",
       "        vertical-align: top;\n",
       "    }\n",
       "\n",
       "    .dataframe thead th {\n",
       "        text-align: right;\n",
       "    }\n",
       "</style>\n",
       "<table border=\"1\" class=\"dataframe\">\n",
       "  <thead>\n",
       "    <tr style=\"text-align: right;\">\n",
       "      <th></th>\n",
       "      <th>tweet</th>\n",
       "      <th>tag_counts</th>\n",
       "    </tr>\n",
       "  </thead>\n",
       "  <tbody>\n",
       "    <tr>\n",
       "      <th>0</th>\n",
       "      <td>[(comedycentralke, NN), (words, NNS), (kill, V...</td>\n",
       "      <td>{'NN': 3, 'NNS': 1, 'VB': 1, 'JJ': 2}</td>\n",
       "    </tr>\n",
       "    <tr>\n",
       "      <th>1</th>\n",
       "      <td>[(little, JJ), (luhya, NN), (remains, VBZ), (a...</td>\n",
       "      <td>{'JJ': 2, 'NN': 1, 'VBZ': 1, 'RB': 1, 'NNS': 1}</td>\n",
       "    </tr>\n",
       "    <tr>\n",
       "      <th>2</th>\n",
       "      <td>[(cheernatwildcat, NN), (kill, VB), (battle, N...</td>\n",
       "      <td>{'NN': 5, 'VB': 1}</td>\n",
       "    </tr>\n",
       "    <tr>\n",
       "      <th>3</th>\n",
       "      <td>[(homeboyzradio, NN), (hbr, NN), (luv, NN), (d...</td>\n",
       "      <td>{'NN': 5, 'VBD': 1, 'JJ': 1, 'RB': 1, 'VBP': 1...</td>\n",
       "    </tr>\n",
       "    <tr>\n",
       "      <th>4</th>\n",
       "      <td>[(hangoutfriday, NN), (hahaha, VB), (ball, NN)...</td>\n",
       "      <td>{'NN': 5, 'VB': 1, 'JJ': 2}</td>\n",
       "    </tr>\n",
       "  </tbody>\n",
       "</table>\n",
       "</div>"
      ],
      "text/plain": [
       "                                               tweet  \\\n",
       "0  [(comedycentralke, NN), (words, NNS), (kill, V...   \n",
       "1  [(little, JJ), (luhya, NN), (remains, VBZ), (a...   \n",
       "2  [(cheernatwildcat, NN), (kill, VB), (battle, N...   \n",
       "3  [(homeboyzradio, NN), (hbr, NN), (luv, NN), (d...   \n",
       "4  [(hangoutfriday, NN), (hahaha, VB), (ball, NN)...   \n",
       "\n",
       "                                          tag_counts  \n",
       "0              {'NN': 3, 'NNS': 1, 'VB': 1, 'JJ': 2}  \n",
       "1    {'JJ': 2, 'NN': 1, 'VBZ': 1, 'RB': 1, 'NNS': 1}  \n",
       "2                                 {'NN': 5, 'VB': 1}  \n",
       "3  {'NN': 5, 'VBD': 1, 'JJ': 1, 'RB': 1, 'VBP': 1...  \n",
       "4                        {'NN': 5, 'VB': 1, 'JJ': 2}  "
      ]
     },
     "execution_count": 24,
     "metadata": {},
     "output_type": "execute_result"
    }
   ],
   "source": [
    "tagged_tweets = pd.DataFrame(tagged_tweets)\n",
    "tagged_tweets['tag_counts'] = tagged_tweets['tweet'].map(count_tags)\n",
    "tagged_tweets.head()"
   ]
  },
  {
   "cell_type": "code",
   "execution_count": 25,
   "metadata": {},
   "outputs": [
    {
     "data": {
      "text/plain": [
       "<matplotlib.axes._subplots.AxesSubplot at 0x7f7cce3afee0>"
      ]
     },
     "execution_count": 25,
     "metadata": {},
     "output_type": "execute_result"
    },
    {
     "data": {
      "image/png": "[encoded data removed]",
      "text/plain": [
       "<Figure size 864x576 with 1 Axes>"
      ]
     },
     "metadata": {
      "needs_background": "light"
     },
     "output_type": "display_data"
    }
   ],
   "source": [
    "tag_set = list(set([tag for tags in tagged_tweets['tag_counts'] for tag in tags]))\n",
    "for tag in tag_set:\n",
    "    tagged_tweets[tag] = tagged_tweets['tag_counts'].map(lambda x: x.get(tag, 0))\n",
    "title = 'Frequency of POS Tags in Tweet'    \n",
    "tagged_tweets[tag_set].sum().sort_values().plot(kind='barh', logx=True, figsize=(12,8), title=title)"
   ]
  },
  {
   "cell_type": "code",
   "execution_count": 26,
   "metadata": {},
   "outputs": [
    {
     "data": {
      "text/html": [
       "<div>\n",
       "<style scoped>\n",
       "    .dataframe tbody tr th:only-of-type {\n",
       "        vertical-align: middle;\n",
       "    }\n",
       "\n",
       "    .dataframe tbody tr th {\n",
       "        vertical-align: top;\n",
       "    }\n",
       "\n",
       "    .dataframe thead th {\n",
       "        text-align: right;\n",
       "    }\n",
       "</style>\n",
       "<table border=\"1\" class=\"dataframe\">\n",
       "  <thead>\n",
       "    <tr style=\"text-align: right;\">\n",
       "      <th></th>\n",
       "      <th>NN</th>\n",
       "      <th>VBP</th>\n",
       "      <th>NNS</th>\n",
       "      <th>VB</th>\n",
       "      <th>MD</th>\n",
       "      <th>NNP</th>\n",
       "      <th>JJ</th>\n",
       "      <th>VBZ</th>\n",
       "      <th>VBN</th>\n",
       "      <th>FW</th>\n",
       "      <th>...</th>\n",
       "      <th>VBG</th>\n",
       "      <th>WDT</th>\n",
       "      <th>NNPS</th>\n",
       "      <th>UH</th>\n",
       "      <th>TO</th>\n",
       "      <th>SYM</th>\n",
       "      <th>PRP$</th>\n",
       "      <th>POS</th>\n",
       "      <th>WP$</th>\n",
       "      <th>LS</th>\n",
       "    </tr>\n",
       "  </thead>\n",
       "  <tbody>\n",
       "    <tr>\n",
       "      <th>kama</th>\n",
       "      <td>139.0</td>\n",
       "      <td>8.0</td>\n",
       "      <td>3.0</td>\n",
       "      <td>1.0</td>\n",
       "      <td>0.0</td>\n",
       "      <td>8.0</td>\n",
       "      <td>1.0</td>\n",
       "      <td>0.0</td>\n",
       "      <td>0.0</td>\n",
       "      <td>3.0</td>\n",
       "      <td>...</td>\n",
       "      <td>0.0</td>\n",
       "      <td>0.0</td>\n",
       "      <td>0.0</td>\n",
       "      <td>0.0</td>\n",
       "      <td>0.0</td>\n",
       "      <td>0.0</td>\n",
       "      <td>0.0</td>\n",
       "      <td>0.0</td>\n",
       "      <td>0.0</td>\n",
       "      <td>0.0</td>\n",
       "    </tr>\n",
       "    <tr>\n",
       "      <th>kenya</th>\n",
       "      <td>287.0</td>\n",
       "      <td>70.0</td>\n",
       "      <td>51.0</td>\n",
       "      <td>50.0</td>\n",
       "      <td>0.0</td>\n",
       "      <td>7.0</td>\n",
       "      <td>46.0</td>\n",
       "      <td>13.0</td>\n",
       "      <td>4.0</td>\n",
       "      <td>7.0</td>\n",
       "      <td>...</td>\n",
       "      <td>0.0</td>\n",
       "      <td>0.0</td>\n",
       "      <td>0.0</td>\n",
       "      <td>0.0</td>\n",
       "      <td>0.0</td>\n",
       "      <td>0.0</td>\n",
       "      <td>0.0</td>\n",
       "      <td>0.0</td>\n",
       "      <td>0.0</td>\n",
       "      <td>0.0</td>\n",
       "    </tr>\n",
       "    <tr>\n",
       "      <th>za</th>\n",
       "      <td>61.0</td>\n",
       "      <td>23.0</td>\n",
       "      <td>0.0</td>\n",
       "      <td>0.0</td>\n",
       "      <td>0.0</td>\n",
       "      <td>6.0</td>\n",
       "      <td>0.0</td>\n",
       "      <td>0.0</td>\n",
       "      <td>0.0</td>\n",
       "      <td>1.0</td>\n",
       "      <td>...</td>\n",
       "      <td>0.0</td>\n",
       "      <td>0.0</td>\n",
       "      <td>0.0</td>\n",
       "      <td>0.0</td>\n",
       "      <td>0.0</td>\n",
       "      <td>0.0</td>\n",
       "      <td>0.0</td>\n",
       "      <td>0.0</td>\n",
       "      <td>0.0</td>\n",
       "      <td>0.0</td>\n",
       "    </tr>\n",
       "    <tr>\n",
       "      <th>ya</th>\n",
       "      <td>332.0</td>\n",
       "      <td>5.0</td>\n",
       "      <td>6.0</td>\n",
       "      <td>0.0</td>\n",
       "      <td>0.0</td>\n",
       "      <td>6.0</td>\n",
       "      <td>18.0</td>\n",
       "      <td>1.0</td>\n",
       "      <td>0.0</td>\n",
       "      <td>1.0</td>\n",
       "      <td>...</td>\n",
       "      <td>0.0</td>\n",
       "      <td>0.0</td>\n",
       "      <td>0.0</td>\n",
       "      <td>0.0</td>\n",
       "      <td>0.0</td>\n",
       "      <td>0.0</td>\n",
       "      <td>0.0</td>\n",
       "      <td>0.0</td>\n",
       "      <td>0.0</td>\n",
       "      <td>0.0</td>\n",
       "    </tr>\n",
       "    <tr>\n",
       "      <th>xtiandela</th>\n",
       "      <td>5.0</td>\n",
       "      <td>0.0</td>\n",
       "      <td>0.0</td>\n",
       "      <td>0.0</td>\n",
       "      <td>0.0</td>\n",
       "      <td>5.0</td>\n",
       "      <td>3.0</td>\n",
       "      <td>1.0</td>\n",
       "      <td>0.0</td>\n",
       "      <td>0.0</td>\n",
       "      <td>...</td>\n",
       "      <td>0.0</td>\n",
       "      <td>0.0</td>\n",
       "      <td>0.0</td>\n",
       "      <td>0.0</td>\n",
       "      <td>0.0</td>\n",
       "      <td>0.0</td>\n",
       "      <td>0.0</td>\n",
       "      <td>0.0</td>\n",
       "      <td>0.0</td>\n",
       "      <td>0.0</td>\n",
       "    </tr>\n",
       "    <tr>\n",
       "      <th>kina</th>\n",
       "      <td>4.0</td>\n",
       "      <td>0.0</td>\n",
       "      <td>1.0</td>\n",
       "      <td>3.0</td>\n",
       "      <td>0.0</td>\n",
       "      <td>5.0</td>\n",
       "      <td>0.0</td>\n",
       "      <td>0.0</td>\n",
       "      <td>1.0</td>\n",
       "      <td>0.0</td>\n",
       "      <td>...</td>\n",
       "      <td>0.0</td>\n",
       "      <td>0.0</td>\n",
       "      <td>0.0</td>\n",
       "      <td>0.0</td>\n",
       "      <td>0.0</td>\n",
       "      <td>0.0</td>\n",
       "      <td>0.0</td>\n",
       "      <td>0.0</td>\n",
       "      <td>0.0</td>\n",
       "      <td>0.0</td>\n",
       "    </tr>\n",
       "    <tr>\n",
       "      <th>kikuyus</th>\n",
       "      <td>861.0</td>\n",
       "      <td>134.0</td>\n",
       "      <td>218.0</td>\n",
       "      <td>132.0</td>\n",
       "      <td>0.0</td>\n",
       "      <td>4.0</td>\n",
       "      <td>138.0</td>\n",
       "      <td>14.0</td>\n",
       "      <td>6.0</td>\n",
       "      <td>17.0</td>\n",
       "      <td>...</td>\n",
       "      <td>0.0</td>\n",
       "      <td>0.0</td>\n",
       "      <td>0.0</td>\n",
       "      <td>0.0</td>\n",
       "      <td>0.0</td>\n",
       "      <td>0.0</td>\n",
       "      <td>0.0</td>\n",
       "      <td>0.0</td>\n",
       "      <td>0.0</td>\n",
       "      <td>0.0</td>\n",
       "    </tr>\n",
       "    <tr>\n",
       "      <th>xd</th>\n",
       "      <td>9.0</td>\n",
       "      <td>0.0</td>\n",
       "      <td>0.0</td>\n",
       "      <td>0.0</td>\n",
       "      <td>0.0</td>\n",
       "      <td>3.0</td>\n",
       "      <td>3.0</td>\n",
       "      <td>0.0</td>\n",
       "      <td>0.0</td>\n",
       "      <td>0.0</td>\n",
       "      <td>...</td>\n",
       "      <td>0.0</td>\n",
       "      <td>0.0</td>\n",
       "      <td>0.0</td>\n",
       "      <td>0.0</td>\n",
       "      <td>0.0</td>\n",
       "      <td>0.0</td>\n",
       "      <td>0.0</td>\n",
       "      <td>0.0</td>\n",
       "      <td>0.0</td>\n",
       "      <td>0.0</td>\n",
       "    </tr>\n",
       "    <tr>\n",
       "      <th>kambas</th>\n",
       "      <td>129.0</td>\n",
       "      <td>15.0</td>\n",
       "      <td>28.0</td>\n",
       "      <td>16.0</td>\n",
       "      <td>0.0</td>\n",
       "      <td>3.0</td>\n",
       "      <td>27.0</td>\n",
       "      <td>8.0</td>\n",
       "      <td>2.0</td>\n",
       "      <td>5.0</td>\n",
       "      <td>...</td>\n",
       "      <td>0.0</td>\n",
       "      <td>0.0</td>\n",
       "      <td>0.0</td>\n",
       "      <td>0.0</td>\n",
       "      <td>0.0</td>\n",
       "      <td>0.0</td>\n",
       "      <td>0.0</td>\n",
       "      <td>0.0</td>\n",
       "      <td>0.0</td>\n",
       "      <td>0.0</td>\n",
       "    </tr>\n",
       "    <tr>\n",
       "      <th>kamba</th>\n",
       "      <td>69.0</td>\n",
       "      <td>5.0</td>\n",
       "      <td>11.0</td>\n",
       "      <td>6.0</td>\n",
       "      <td>0.0</td>\n",
       "      <td>3.0</td>\n",
       "      <td>13.0</td>\n",
       "      <td>1.0</td>\n",
       "      <td>0.0</td>\n",
       "      <td>1.0</td>\n",
       "      <td>...</td>\n",
       "      <td>0.0</td>\n",
       "      <td>0.0</td>\n",
       "      <td>0.0</td>\n",
       "      <td>0.0</td>\n",
       "      <td>0.0</td>\n",
       "      <td>0.0</td>\n",
       "      <td>0.0</td>\n",
       "      <td>0.0</td>\n",
       "      <td>0.0</td>\n",
       "      <td>0.0</td>\n",
       "    </tr>\n",
       "  </tbody>\n",
       "</table>\n",
       "<p>10 rows × 36 columns</p>\n",
       "</div>"
      ],
      "text/plain": [
       "              NN    VBP    NNS     VB   MD  NNP     JJ   VBZ  VBN    FW  ...  \\\n",
       "kama       139.0    8.0    3.0    1.0  0.0  8.0    1.0   0.0  0.0   3.0  ...   \n",
       "kenya      287.0   70.0   51.0   50.0  0.0  7.0   46.0  13.0  4.0   7.0  ...   \n",
       "za          61.0   23.0    0.0    0.0  0.0  6.0    0.0   0.0  0.0   1.0  ...   \n",
       "ya         332.0    5.0    6.0    0.0  0.0  6.0   18.0   1.0  0.0   1.0  ...   \n",
       "xtiandela    5.0    0.0    0.0    0.0  0.0  5.0    3.0   1.0  0.0   0.0  ...   \n",
       "kina         4.0    0.0    1.0    3.0  0.0  5.0    0.0   0.0  1.0   0.0  ...   \n",
       "kikuyus    861.0  134.0  218.0  132.0  0.0  4.0  138.0  14.0  6.0  17.0  ...   \n",
       "xd           9.0    0.0    0.0    0.0  0.0  3.0    3.0   0.0  0.0   0.0  ...   \n",
       "kambas     129.0   15.0   28.0   16.0  0.0  3.0   27.0   8.0  2.0   5.0  ...   \n",
       "kamba       69.0    5.0   11.0    6.0  0.0  3.0   13.0   1.0  0.0   1.0  ...   \n",
       "\n",
       "           VBG  WDT  NNPS   UH   TO  SYM  PRP$  POS  WP$   LS  \n",
       "kama       0.0  0.0   0.0  0.0  0.0  0.0   0.0  0.0  0.0  0.0  \n",
       "kenya      0.0  0.0   0.0  0.0  0.0  0.0   0.0  0.0  0.0  0.0  \n",
       "za         0.0  0.0   0.0  0.0  0.0  0.0   0.0  0.0  0.0  0.0  \n",
       "ya         0.0  0.0   0.0  0.0  0.0  0.0   0.0  0.0  0.0  0.0  \n",
       "xtiandela  0.0  0.0   0.0  0.0  0.0  0.0   0.0  0.0  0.0  0.0  \n",
       "kina       0.0  0.0   0.0  0.0  0.0  0.0   0.0  0.0  0.0  0.0  \n",
       "kikuyus    0.0  0.0   0.0  0.0  0.0  0.0   0.0  0.0  0.0  0.0  \n",
       "xd         0.0  0.0   0.0  0.0  0.0  0.0   0.0  0.0  0.0  0.0  \n",
       "kambas     0.0  0.0   0.0  0.0  0.0  0.0   0.0  0.0  0.0  0.0  \n",
       "kamba      0.0  0.0   0.0  0.0  0.0  0.0   0.0  0.0  0.0  0.0  \n",
       "\n",
       "[10 rows x 36 columns]"
      ]
     },
     "execution_count": 26,
     "metadata": {},
     "output_type": "execute_result"
    }
   ],
   "source": [
    "vocabulary = {}\n",
    "for row in tagged_tweets['tweet']:\n",
    "    for word, tag in row:\n",
    "        if word in vocabulary:\n",
    "            if tag in vocabulary[word]:\n",
    "                vocabulary[word][tag] += 1\n",
    "            else:\n",
    "                vocabulary[word][tag] = 1\n",
    "        else:\n",
    "            vocabulary[word] = {tag: 1}\n",
    "vocabulary_df = pd.DataFrame.from_dict(vocabulary, orient='index')\n",
    "vocabulary_df.fillna(value=0, inplace=True)\n",
    "tag = 'NNP' # NNP: Proper noun, singular \n",
    "vocabulary_df.sort_values(by=tag, ascending=False).head(10) # top 10 words for a given tag"
   ]
  },
  {
   "cell_type": "code",
   "execution_count": 27,
   "metadata": {},
   "outputs": [
    {
     "data": {
      "text/plain": [
       "<matplotlib.axes._subplots.AxesSubplot at 0x7f7cc96fcb80>"
      ]
     },
     "execution_count": 27,
     "metadata": {},
     "output_type": "execute_result"
    },
    {
     "data": {
      "image/png": "[encoded data removed]",
      "text/plain": [
       "<Figure size 864x432 with 1 Axes>"
      ]
     },
     "metadata": {
      "needs_background": "light"
     },
     "output_type": "display_data"
    }
   ],
   "source": [
    "size = 25\n",
    "tag = 'VBG' # VBG: Verb, gerund or present participle\n",
    "title = 'Top {} Most Frequent Words for {} Tag'.format(size, tag)\n",
    "vocabulary_df[tag].sort_values().tail(size).plot(kind='barh', figsize=(12,6), title=title)"
   ]
  },
  {
   "cell_type": "code",
   "execution_count": 28,
   "metadata": {},
   "outputs": [
    {
     "data": {
      "text/plain": [
       "<matplotlib.axes._subplots.AxesSubplot at 0x7f7cc8678e50>"
      ]
     },
     "execution_count": 28,
     "metadata": {},
     "output_type": "execute_result"
    },
    {
     "data": {
      "image/png": "[encoded data removed]",
      "text/plain": [
       "<Figure size 864x576 with 1 Axes>"
      ]
     },
     "metadata": {
      "needs_background": "light"
     },
     "output_type": "display_data"
    }
   ],
   "source": [
    "vocab = {}\n",
    "for row in tagged_tweets['tweet']:\n",
    "    for word, tag in row:\n",
    "        if word in vocab:\n",
    "            vocab[word] += 1\n",
    "        else:\n",
    "            vocab[word] = 1\n",
    "\n",
    "vocab_df = pd.DataFrame.from_dict(vocab, orient='index')\n",
    "vocab_df.columns = ['count']\n",
    "size = 30\n",
    "title = 'Top {} Most Frequent Words in Tweets'.format(size)\n",
    "vocab_df.sort_values(by='count').tail(size).plot(kind='barh', logx=True, figsize=(12,8), title=title)"
   ]
  },
  {
   "cell_type": "code",
   "execution_count": null,
   "metadata": {},
   "outputs": [],
   "source": []
  }
 ],
 "metadata": {
  "kernelspec": {
   "display_name": "Python 3",
   "language": "python",
   "name": "python3"
  },
  "language_info": {
   "codemirror_mode": {
    "name": "ipython",
    "version": 3
   },
   "file_extension": ".py",
   "mimetype": "text/x-python",
   "name": "python",
   "nbconvert_exporter": "python",
   "pygments_lexer": "ipython3",
   "version": "3.8.3"
  }
 },
 "nbformat": 4,
 "nbformat_minor": 4
}
