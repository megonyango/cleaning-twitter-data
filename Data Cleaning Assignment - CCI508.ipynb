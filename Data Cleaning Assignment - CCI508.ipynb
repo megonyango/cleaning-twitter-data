{
 "cells": [
  {
   "cell_type": "markdown",
   "metadata": {},
   "source": [
    "## ADM:  P52/38304/2020   NAME:ONYANGO MARGARET NYAKENO \n"
   ]
  },
  {
   "cell_type": "code",
   "execution_count": 1,
   "metadata": {},
   "outputs": [],
   "source": [
    "#Import all required libraries\n",
    "\n",
    "import pandas as pd\n",
    "import numpy as np\n",
    "import seaborn as sns\n",
    "import matplotlib.pyplot as plt\n",
    "\n",
    "import nltk \n",
    "import string\n",
    "import re\n",
    "%matplotlib inline"
   ]
  },
  {
   "cell_type": "code",
   "execution_count": 2,
   "metadata": {},
   "outputs": [],
   "source": [
    "#import using pandas \n",
    "tweets = pd.read_csv('Tweets/TweetRaw.csv', sep=',',\n",
    "                           names=[\"date\", \"tweet\"])"
   ]
  },
  {
   "cell_type": "code",
   "execution_count": 3,
   "metadata": {},
   "outputs": [
    {
     "data": {
      "text/html": [
       "<div>\n",
       "<style scoped>\n",
       "    .dataframe tbody tr th:only-of-type {\n",
       "        vertical-align: middle;\n",
       "    }\n",
       "\n",
       "    .dataframe tbody tr th {\n",
       "        vertical-align: top;\n",
       "    }\n",
       "\n",
       "    .dataframe thead th {\n",
       "        text-align: right;\n",
       "    }\n",
       "</style>\n",
       "<table border=\"1\" class=\"dataframe\">\n",
       "  <thead>\n",
       "    <tr style=\"text-align: right;\">\n",
       "      <th></th>\n",
       "      <th>date</th>\n",
       "      <th>tweet</th>\n",
       "    </tr>\n",
       "  </thead>\n",
       "  <tbody>\n",
       "    <tr>\n",
       "      <th>0</th>\n",
       "      <td>;2015-08-03 15:35;0;0;</td>\n",
       "      <td>@ComedyCentralKE These words can kill a Luhya ...</td>\n",
       "    </tr>\n",
       "    <tr>\n",
       "      <th>1</th>\n",
       "      <td>;2014-07-11 23:29;0;0;</td>\n",
       "      <td>The little luhya that remains in me always    ...</td>\n",
       "    </tr>\n",
       "    <tr>\n",
       "      <th>2</th>\n",
       "      <td>;2014-02-07 18:36;0;2;</td>\n",
       "      <td>@cheernatwildcat kill it at battle this weeken...</td>\n",
       "    </tr>\n",
       "    <tr>\n",
       "      <th>3</th>\n",
       "      <td>;2011-10-09 19:34;0;0;</td>\n",
       "      <td>@HomeboyzRadio H.B.R luv dat luhya hit luhyas ...</td>\n",
       "    </tr>\n",
       "    <tr>\n",
       "      <th>4</th>\n",
       "      <td>;2015-08-21 09:27;2;3;</td>\n",
       "      <td>#HangOutFriday hahaha ball ya terby( derby)  L...</td>\n",
       "    </tr>\n",
       "  </tbody>\n",
       "</table>\n",
       "</div>"
      ],
      "text/plain": [
       "                     date                                              tweet\n",
       "0  ;2015-08-03 15:35;0;0;  @ComedyCentralKE These words can kill a Luhya ...\n",
       "1  ;2014-07-11 23:29;0;0;  The little luhya that remains in me always    ...\n",
       "2  ;2014-02-07 18:36;0;2;  @cheernatwildcat kill it at battle this weeken...\n",
       "3  ;2011-10-09 19:34;0;0;  @HomeboyzRadio H.B.R luv dat luhya hit luhyas ...\n",
       "4  ;2015-08-21 09:27;2;3;  #HangOutFriday hahaha ball ya terby( derby)  L..."
      ]
     },
     "execution_count": 3,
     "metadata": {},
     "output_type": "execute_result"
    }
   ],
   "source": [
    "tweets.head()"
   ]
  },
  {
   "cell_type": "markdown",
   "metadata": {},
   "source": [
    "#once we have the data, we can begin to clean it\n",
    "#we will work with functions to help us clean the data\n"
   ]
  },
  {
   "cell_type": "markdown",
   "metadata": {},
   "source": [
    "## Replacing non-ASCII characters with spaces\n"
   ]
  },
  {
   "cell_type": "code",
   "execution_count": 4,
   "metadata": {},
   "outputs": [],
   "source": [
    "#function \n",
    "\n",
    "def remove_nonascii(text):\n",
    "    \n",
    "    return ''.join([i if ord(i) < 128 else ' ' for i in text])"
   ]
  },
  {
   "cell_type": "code",
   "execution_count": 5,
   "metadata": {},
   "outputs": [],
   "source": [
    "non_ascii_tweets=tweets['tweet'].apply(remove_nonascii)"
   ]
  },
  {
   "cell_type": "code",
   "execution_count": 6,
   "metadata": {},
   "outputs": [
    {
     "data": {
      "text/plain": [
       "0    @ComedyCentralKE These words can kill a Luhya ...\n",
       "1    The little luhya that remains in me always    ...\n",
       "2    @cheernatwildcat kill it at battle this weeken...\n",
       "3    @HomeboyzRadio H.B.R luv dat luhya hit luhyas ...\n",
       "4    #HangOutFriday hahaha ball ya terby( derby)  L...\n",
       "Name: tweet, dtype: object"
      ]
     },
     "execution_count": 6,
     "metadata": {},
     "output_type": "execute_result"
    }
   ],
   "source": [
    "non_ascii_tweets.head()"
   ]
  },
  {
   "cell_type": "code",
   "execution_count": 7,
   "metadata": {},
   "outputs": [
    {
     "data": {
      "text/html": [
       "<div>\n",
       "<style scoped>\n",
       "    .dataframe tbody tr th:only-of-type {\n",
       "        vertical-align: middle;\n",
       "    }\n",
       "\n",
       "    .dataframe tbody tr th {\n",
       "        vertical-align: top;\n",
       "    }\n",
       "\n",
       "    .dataframe thead th {\n",
       "        text-align: right;\n",
       "    }\n",
       "</style>\n",
       "<table border=\"1\" class=\"dataframe\">\n",
       "  <thead>\n",
       "    <tr style=\"text-align: right;\">\n",
       "      <th></th>\n",
       "      <th>tweet</th>\n",
       "      <th>date</th>\n",
       "    </tr>\n",
       "  </thead>\n",
       "  <tbody>\n",
       "    <tr>\n",
       "      <th>0</th>\n",
       "      <td>@ComedyCentralKE These words can kill a Luhya ...</td>\n",
       "      <td>;2015-08-03 15:35;0;0;</td>\n",
       "    </tr>\n",
       "    <tr>\n",
       "      <th>1</th>\n",
       "      <td>The little luhya that remains in me always    ...</td>\n",
       "      <td>;2014-07-11 23:29;0;0;</td>\n",
       "    </tr>\n",
       "    <tr>\n",
       "      <th>2</th>\n",
       "      <td>@cheernatwildcat kill it at battle this weeken...</td>\n",
       "      <td>;2014-02-07 18:36;0;2;</td>\n",
       "    </tr>\n",
       "    <tr>\n",
       "      <th>3</th>\n",
       "      <td>@HomeboyzRadio H.B.R luv dat luhya hit luhyas ...</td>\n",
       "      <td>;2011-10-09 19:34;0;0;</td>\n",
       "    </tr>\n",
       "    <tr>\n",
       "      <th>4</th>\n",
       "      <td>#HangOutFriday hahaha ball ya terby( derby)  L...</td>\n",
       "      <td>;2015-08-21 09:27;2;3;</td>\n",
       "    </tr>\n",
       "  </tbody>\n",
       "</table>\n",
       "</div>"
      ],
      "text/plain": [
       "                                               tweet                    date\n",
       "0  @ComedyCentralKE These words can kill a Luhya ...  ;2015-08-03 15:35;0;0;\n",
       "1  The little luhya that remains in me always    ...  ;2014-07-11 23:29;0;0;\n",
       "2  @cheernatwildcat kill it at battle this weeken...  ;2014-02-07 18:36;0;2;\n",
       "3  @HomeboyzRadio H.B.R luv dat luhya hit luhyas ...  ;2011-10-09 19:34;0;0;\n",
       "4  #HangOutFriday hahaha ball ya terby( derby)  L...  ;2015-08-21 09:27;2;3;"
      ]
     },
     "execution_count": 7,
     "metadata": {},
     "output_type": "execute_result"
    }
   ],
   "source": [
    "#put it back to a dataframe\n",
    "\n",
    "non_ascii_tweets = pd.DataFrame(non_ascii_tweets,columns=['tweet'])\n",
    "non_ascii_tweets['date'] = tweets.date\n",
    "\n",
    "non_ascii_tweets.head()\n"
   ]
  },
  {
   "cell_type": "code",
   "execution_count": 8,
   "metadata": {},
   "outputs": [
    {
     "name": "stdout",
     "output_type": "stream",
     "text": [
      "(뭣보다 귀찮고 ��� 힘든 체�스 �버트  14세. ADHD.)\n",
      "(                        14 . ADHD.)\n"
     ]
    }
   ],
   "source": [
    "#example of a character removed\n",
    "\n",
    "print(tweets['tweet'].iloc[4247])\n",
    "\n",
    "print(non_ascii_tweets['tweet'].iloc[4247])\n"
   ]
  },
  {
   "cell_type": "markdown",
   "metadata": {},
   "source": [
    "## Remove emoticons"
   ]
  },
  {
   "cell_type": "code",
   "execution_count": 9,
   "metadata": {},
   "outputs": [],
   "source": [
    "#function to remove emoticons\n",
    "\n",
    "\n",
    "def remove_emojis(text):\n",
    "    regrex_pattern = re.compile(pattern = \"[\"\n",
    "        u\"\\U0001F600-\\U0001F64F\"  # emoticons\n",
    "        u\"\\U0001F300-\\U0001F5FF\"  # symbols & pictographs\n",
    "        u\"\\U0001F680-\\U0001F6FF\"  # transport & map symbols\n",
    "        u\"\\U0001F1E0-\\U0001F1FF\"  # flags (iOS)\n",
    "                           \"]+\", flags = re.UNICODE)\n",
    "    return regrex_pattern.sub(r'',text)\n"
   ]
  },
  {
   "cell_type": "code",
   "execution_count": 10,
   "metadata": {},
   "outputs": [],
   "source": [
    "no_emoticons=non_ascii_tweets['tweet'].apply(remove_emojis)"
   ]
  },
  {
   "cell_type": "code",
   "execution_count": 11,
   "metadata": {},
   "outputs": [
    {
     "data": {
      "text/plain": [
       "0    @ComedyCentralKE These words can kill a Luhya ...\n",
       "1    The little luhya that remains in me always    ...\n",
       "2    @cheernatwildcat kill it at battle this weeken...\n",
       "3    @HomeboyzRadio H.B.R luv dat luhya hit luhyas ...\n",
       "4    #HangOutFriday hahaha ball ya terby( derby)  L...\n",
       "Name: tweet, dtype: object"
      ]
     },
     "execution_count": 11,
     "metadata": {},
     "output_type": "execute_result"
    }
   ],
   "source": [
    "no_emoticons.head()"
   ]
  },
  {
   "cell_type": "code",
   "execution_count": 15,
   "metadata": {},
   "outputs": [
    {
     "data": {
      "text/html": [
       "<div>\n",
       "<style scoped>\n",
       "    .dataframe tbody tr th:only-of-type {\n",
       "        vertical-align: middle;\n",
       "    }\n",
       "\n",
       "    .dataframe tbody tr th {\n",
       "        vertical-align: top;\n",
       "    }\n",
       "\n",
       "    .dataframe thead th {\n",
       "        text-align: right;\n",
       "    }\n",
       "</style>\n",
       "<table border=\"1\" class=\"dataframe\">\n",
       "  <thead>\n",
       "    <tr style=\"text-align: right;\">\n",
       "      <th></th>\n",
       "      <th>tweet</th>\n",
       "      <th>date</th>\n",
       "    </tr>\n",
       "  </thead>\n",
       "  <tbody>\n",
       "    <tr>\n",
       "      <th>0</th>\n",
       "      <td>@ComedyCentralKE These words can kill a Luhya ...</td>\n",
       "      <td>;2015-08-03 15:35;0;0;</td>\n",
       "    </tr>\n",
       "    <tr>\n",
       "      <th>1</th>\n",
       "      <td>The little luhya that remains in me always    ...</td>\n",
       "      <td>;2014-07-11 23:29;0;0;</td>\n",
       "    </tr>\n",
       "    <tr>\n",
       "      <th>2</th>\n",
       "      <td>@cheernatwildcat kill it at battle this weeken...</td>\n",
       "      <td>;2014-02-07 18:36;0;2;</td>\n",
       "    </tr>\n",
       "    <tr>\n",
       "      <th>3</th>\n",
       "      <td>@HomeboyzRadio H.B.R luv dat luhya hit luhyas ...</td>\n",
       "      <td>;2011-10-09 19:34;0;0;</td>\n",
       "    </tr>\n",
       "    <tr>\n",
       "      <th>4</th>\n",
       "      <td>#HangOutFriday hahaha ball ya terby( derby)  L...</td>\n",
       "      <td>;2015-08-21 09:27;2;3;</td>\n",
       "    </tr>\n",
       "  </tbody>\n",
       "</table>\n",
       "</div>"
      ],
      "text/plain": [
       "                                               tweet                    date\n",
       "0  @ComedyCentralKE These words can kill a Luhya ...  ;2015-08-03 15:35;0;0;\n",
       "1  The little luhya that remains in me always    ...  ;2014-07-11 23:29;0;0;\n",
       "2  @cheernatwildcat kill it at battle this weeken...  ;2014-02-07 18:36;0;2;\n",
       "3  @HomeboyzRadio H.B.R luv dat luhya hit luhyas ...  ;2011-10-09 19:34;0;0;\n",
       "4  #HangOutFriday hahaha ball ya terby( derby)  L...  ;2015-08-21 09:27;2;3;"
      ]
     },
     "execution_count": 15,
     "metadata": {},
     "output_type": "execute_result"
    }
   ],
   "source": [
    "#put it back to a dataframe\n",
    "\n",
    "no_emoticons = pd.DataFrame(no_emoticons,columns=['tweet'])\n",
    "no_emoticons['date'] = tweets.date\n",
    "\n",
    "no_emoticons.head()"
   ]
  },
  {
   "cell_type": "markdown",
   "metadata": {},
   "source": [
    "## Remove punctuation,stopwords & lowercase)"
   ]
  },
  {
   "cell_type": "code",
   "execution_count": 16,
   "metadata": {},
   "outputs": [],
   "source": [
    "from nltk.corpus import stopwords\n"
   ]
  },
  {
   "cell_type": "code",
   "execution_count": 17,
   "metadata": {},
   "outputs": [],
   "source": [
    "# we are going to do this in one function\n",
    "\n",
    "def text_preprocess(mess):\n",
    "    \"\"\"\n",
    "    Takes in a string of text, then performs the following:\n",
    "\n",
    "    1. Remove all punctuation\n",
    "    2. Lowercase all the values\n",
    "    3. Remove all stopwords\n",
    "    4. Returns a list of the cleaned tweets\n",
    "    \n",
    "    \n",
    "    \"\"\"\n",
    "    # Check characters to see if they are in punctuation and remove\n",
    "    nopunc = [char for char in mess if char not in string.punctuation]\n",
    "\n",
    "    # Join the characters again to form the string.\n",
    "    nopunc = ''.join(nopunc)\n",
    "    \n",
    "    #lowercase\n",
    "    nopunc=nopunc.lower()\n",
    "        \n",
    "    # Now just remove any stopwords\n",
    "    return [word for word in nopunc.split() if word.lower() not in stopwords.words('english')]"
   ]
  },
  {
   "cell_type": "code",
   "execution_count": 20,
   "metadata": {},
   "outputs": [],
   "source": [
    "process_tweets=no_emoticons['tweet'].apply(text_preprocess)"
   ]
  },
  {
   "cell_type": "code",
   "execution_count": 21,
   "metadata": {},
   "outputs": [
    {
     "data": {
      "text/plain": [
       "0    [comedycentralke, words, kill, luhya, wacha, u...\n",
       "1    [little, luhya, remains, always, sitokingi, ki...\n",
       "2    [cheernatwildcat, kill, battle, weekend, wildc...\n",
       "3    [homeboyzradio, hbr, luv, dat, luhya, hit, luh...\n",
       "4    [hangoutfriday, hahaha, ball, ya, terby, derby...\n",
       "5    [luos, kill, blood, thirsty, killers, two, tri...\n",
       "6    [police, kill, luos, bondo, shot, grannies, mi...\n",
       "7    [theres, provision, police, kill, innocent, un...\n",
       "8    [gvnt, us, determined, kill, luos, young, old,...\n",
       "9    [today, eventsscok, maraga, adventist, uphold,...\n",
       "Name: tweet, dtype: object"
      ]
     },
     "execution_count": 21,
     "metadata": {},
     "output_type": "execute_result"
    }
   ],
   "source": [
    "process_tweets.head(10)"
   ]
  },
  {
   "cell_type": "code",
   "execution_count": 22,
   "metadata": {},
   "outputs": [
    {
     "data": {
      "text/html": [
       "<div>\n",
       "<style scoped>\n",
       "    .dataframe tbody tr th:only-of-type {\n",
       "        vertical-align: middle;\n",
       "    }\n",
       "\n",
       "    .dataframe tbody tr th {\n",
       "        vertical-align: top;\n",
       "    }\n",
       "\n",
       "    .dataframe thead th {\n",
       "        text-align: right;\n",
       "    }\n",
       "</style>\n",
       "<table border=\"1\" class=\"dataframe\">\n",
       "  <thead>\n",
       "    <tr style=\"text-align: right;\">\n",
       "      <th></th>\n",
       "      <th>tweet</th>\n",
       "      <th>date</th>\n",
       "    </tr>\n",
       "  </thead>\n",
       "  <tbody>\n",
       "    <tr>\n",
       "      <th>0</th>\n",
       "      <td>[comedycentralke, words, kill, luhya, wacha, u...</td>\n",
       "      <td>;2015-08-03 15:35;0;0;</td>\n",
       "    </tr>\n",
       "    <tr>\n",
       "      <th>1</th>\n",
       "      <td>[little, luhya, remains, always, sitokingi, ki...</td>\n",
       "      <td>;2014-07-11 23:29;0;0;</td>\n",
       "    </tr>\n",
       "    <tr>\n",
       "      <th>2</th>\n",
       "      <td>[cheernatwildcat, kill, battle, weekend, wildc...</td>\n",
       "      <td>;2014-02-07 18:36;0;2;</td>\n",
       "    </tr>\n",
       "    <tr>\n",
       "      <th>3</th>\n",
       "      <td>[homeboyzradio, hbr, luv, dat, luhya, hit, luh...</td>\n",
       "      <td>;2011-10-09 19:34;0;0;</td>\n",
       "    </tr>\n",
       "    <tr>\n",
       "      <th>4</th>\n",
       "      <td>[hangoutfriday, hahaha, ball, ya, terby, derby...</td>\n",
       "      <td>;2015-08-21 09:27;2;3;</td>\n",
       "    </tr>\n",
       "  </tbody>\n",
       "</table>\n",
       "</div>"
      ],
      "text/plain": [
       "                                               tweet                    date\n",
       "0  [comedycentralke, words, kill, luhya, wacha, u...  ;2015-08-03 15:35;0;0;\n",
       "1  [little, luhya, remains, always, sitokingi, ki...  ;2014-07-11 23:29;0;0;\n",
       "2  [cheernatwildcat, kill, battle, weekend, wildc...  ;2014-02-07 18:36;0;2;\n",
       "3  [homeboyzradio, hbr, luv, dat, luhya, hit, luh...  ;2011-10-09 19:34;0;0;\n",
       "4  [hangoutfriday, hahaha, ball, ya, terby, derby...  ;2015-08-21 09:27;2;3;"
      ]
     },
     "execution_count": 22,
     "metadata": {},
     "output_type": "execute_result"
    }
   ],
   "source": [
    "#put it back to a dataframe\n",
    "\n",
    "cleaned_tweets = pd.DataFrame(process_tweets,columns=['tweet'])\n",
    "cleaned_tweets['date'] = tweets.date\n",
    "\n",
    "cleaned_tweets.head()"
   ]
  },
  {
   "cell_type": "code",
   "execution_count": 23,
   "metadata": {},
   "outputs": [
    {
     "name": "stdout",
     "output_type": "stream",
     "text": [
      "@odera_sir Lmao! oh yeah! indeed! luos are very united with that :D\n",
      "['oderasir', 'lmao', 'oh', 'yeah', 'indeed', 'luos', 'united']\n"
     ]
    }
   ],
   "source": [
    "#example of cleaned tweets\n",
    "\n",
    "print(tweets['tweet'].iloc[4931])\n",
    "\n",
    "print(cleaned_tweets['tweet'].iloc[4931])\n"
   ]
  },
  {
   "cell_type": "code",
   "execution_count": 24,
   "metadata": {},
   "outputs": [
    {
     "data": {
      "text/html": [
       "<div>\n",
       "<style scoped>\n",
       "    .dataframe tbody tr th:only-of-type {\n",
       "        vertical-align: middle;\n",
       "    }\n",
       "\n",
       "    .dataframe tbody tr th {\n",
       "        vertical-align: top;\n",
       "    }\n",
       "\n",
       "    .dataframe thead th {\n",
       "        text-align: right;\n",
       "    }\n",
       "</style>\n",
       "<table border=\"1\" class=\"dataframe\">\n",
       "  <thead>\n",
       "    <tr style=\"text-align: right;\">\n",
       "      <th></th>\n",
       "      <th>tweet</th>\n",
       "      <th>date</th>\n",
       "    </tr>\n",
       "  </thead>\n",
       "  <tbody>\n",
       "    <tr>\n",
       "      <th>0</th>\n",
       "      <td>[comedycentralke, words, kill, luhya, wacha, u...</td>\n",
       "      <td>;2015-08-03 15:35;0;0;</td>\n",
       "    </tr>\n",
       "    <tr>\n",
       "      <th>1</th>\n",
       "      <td>[little, luhya, remains, always, sitokingi, ki...</td>\n",
       "      <td>;2014-07-11 23:29;0;0;</td>\n",
       "    </tr>\n",
       "    <tr>\n",
       "      <th>2</th>\n",
       "      <td>[cheernatwildcat, kill, battle, weekend, wildc...</td>\n",
       "      <td>;2014-02-07 18:36;0;2;</td>\n",
       "    </tr>\n",
       "    <tr>\n",
       "      <th>3</th>\n",
       "      <td>[homeboyzradio, hbr, luv, dat, luhya, hit, luh...</td>\n",
       "      <td>;2011-10-09 19:34;0;0;</td>\n",
       "    </tr>\n",
       "    <tr>\n",
       "      <th>4</th>\n",
       "      <td>[hangoutfriday, hahaha, ball, ya, terby, derby...</td>\n",
       "      <td>;2015-08-21 09:27;2;3;</td>\n",
       "    </tr>\n",
       "    <tr>\n",
       "      <th>...</th>\n",
       "      <td>...</td>\n",
       "      <td>...</td>\n",
       "    </tr>\n",
       "    <tr>\n",
       "      <th>20016</th>\n",
       "      <td>[symokuraya, lol, yah, prices, exorbitant, hao...</td>\n",
       "      <td>;2012-04-17 17:20;0;0;</td>\n",
       "    </tr>\n",
       "    <tr>\n",
       "      <th>20017</th>\n",
       "      <td>[jalangomwenyewe, hao, wakisii, wafunguliwe, r...</td>\n",
       "      <td>;2014-02-11 06:37;0;1;</td>\n",
       "    </tr>\n",
       "    <tr>\n",
       "      <th>20018</th>\n",
       "      <td>[stop, harbouring, hatred, hate, one, another,...</td>\n",
       "      <td>;2017-11-02 14:34;0;0;</td>\n",
       "    </tr>\n",
       "    <tr>\n",
       "      <th>20019</th>\n",
       "      <td>[seem, hate, kikuyus, n, nickname, kikuyu, nam...</td>\n",
       "      <td>;2017-10-27 06:51;0;0;</td>\n",
       "    </tr>\n",
       "    <tr>\n",
       "      <th>20020</th>\n",
       "      <td>[would, kikuyus, taught, hate, luos, go, live,...</td>\n",
       "      <td>;2017-10-17 13:48;0;0;</td>\n",
       "    </tr>\n",
       "  </tbody>\n",
       "</table>\n",
       "<p>20021 rows × 2 columns</p>\n",
       "</div>"
      ],
      "text/plain": [
       "                                                   tweet  \\\n",
       "0      [comedycentralke, words, kill, luhya, wacha, u...   \n",
       "1      [little, luhya, remains, always, sitokingi, ki...   \n",
       "2      [cheernatwildcat, kill, battle, weekend, wildc...   \n",
       "3      [homeboyzradio, hbr, luv, dat, luhya, hit, luh...   \n",
       "4      [hangoutfriday, hahaha, ball, ya, terby, derby...   \n",
       "...                                                  ...   \n",
       "20016  [symokuraya, lol, yah, prices, exorbitant, hao...   \n",
       "20017  [jalangomwenyewe, hao, wakisii, wafunguliwe, r...   \n",
       "20018  [stop, harbouring, hatred, hate, one, another,...   \n",
       "20019  [seem, hate, kikuyus, n, nickname, kikuyu, nam...   \n",
       "20020  [would, kikuyus, taught, hate, luos, go, live,...   \n",
       "\n",
       "                         date  \n",
       "0      ;2015-08-03 15:35;0;0;  \n",
       "1      ;2014-07-11 23:29;0;0;  \n",
       "2      ;2014-02-07 18:36;0;2;  \n",
       "3      ;2011-10-09 19:34;0;0;  \n",
       "4      ;2015-08-21 09:27;2;3;  \n",
       "...                       ...  \n",
       "20016  ;2012-04-17 17:20;0;0;  \n",
       "20017  ;2014-02-11 06:37;0;1;  \n",
       "20018  ;2017-11-02 14:34;0;0;  \n",
       "20019  ;2017-10-27 06:51;0;0;  \n",
       "20020  ;2017-10-17 13:48;0;0;  \n",
       "\n",
       "[20021 rows x 2 columns]"
      ]
     },
     "execution_count": 24,
     "metadata": {},
     "output_type": "execute_result"
    }
   ],
   "source": [
    "cleaned_tweets"
   ]
  },
  {
   "cell_type": "markdown",
   "metadata": {},
   "source": [
    "##The tweets are now cleaned and stored in a dataframe clean_tweets ready for anlysis"
   ]
  },
  {
   "cell_type": "markdown",
   "metadata": {},
   "source": [
    "##                                        THE END"
   ]
  },
  {
   "cell_type": "code",
   "execution_count": null,
   "metadata": {},
   "outputs": [],
   "source": []
  }
 ],
 "metadata": {
  "kernelspec": {
   "display_name": "Python 3",
   "language": "python",
   "name": "python3"
  },
  "language_info": {
   "codemirror_mode": {
    "name": "ipython",
    "version": 3
   },
   "file_extension": ".py",
   "mimetype": "text/x-python",
   "name": "python",
   "nbconvert_exporter": "python",
   "pygments_lexer": "ipython3",
   "version": "3.8.3"
  }
 },
 "nbformat": 4,
 "nbformat_minor": 4
}
